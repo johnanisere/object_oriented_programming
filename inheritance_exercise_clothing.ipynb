{
  "nbformat": 4,
  "nbformat_minor": 0,
  "metadata": {
    "kernelspec": {
      "display_name": "Python 3",
      "language": "python",
      "name": "python3"
    },
    "language_info": {
      "codemirror_mode": {
        "name": "ipython",
        "version": 3
      },
      "file_extension": ".py",
      "mimetype": "text/x-python",
      "name": "python",
      "nbconvert_exporter": "python",
      "pygments_lexer": "ipython3",
      "version": "3.6.3"
    },
    "colab": {
      "name": "inheritance_exercise_clothing.ipynb",
      "provenance": [],
      "include_colab_link": true
    }
  },
  "cells": [
    {
      "cell_type": "markdown",
      "metadata": {
        "id": "view-in-github",
        "colab_type": "text"
      },
      "source": [
        "<a href=\"https://colab.research.google.com/github/johnanisere/object_oriented_programming/blob/master/inheritance_exercise_clothing.ipynb\" target=\"_parent\"><img src=\"https://colab.research.google.com/assets/colab-badge.svg\" alt=\"Open In Colab\"/></a>"
      ]
    },
    {
      "cell_type": "markdown",
      "metadata": {
        "id": "QLvj9V_L2PEk",
        "colab_type": "text"
      },
      "source": [
        "# Inheritance Exercise Clothing\n",
        "\n",
        "The following code contains a Clothing parent class and two children classes: Shirt and Pants.\n",
        "\n",
        "Your job is to code a class called Blouse. Read through the code and fill out the TODOs. Then check your work with the unit tests at the bottom of the code."
      ]
    },
    {
      "cell_type": "code",
      "metadata": {
        "id": "Udn4-iJy2PEm",
        "colab_type": "code",
        "colab": {}
      },
      "source": [
        "class Clothing:\n",
        "\n",
        "    def __init__(self, color, size, style, price):\n",
        "        self.color = color\n",
        "        self.size = size\n",
        "        self.style = style\n",
        "        self.price = price\n",
        "        \n",
        "    def change_price(self, price):\n",
        "        self.price = price\n",
        "        \n",
        "    def calculate_discount(self, discount):\n",
        "        return self.price * (1 - discount)\n",
        "    \n",
        "    def calculate_shipping(self,weight,rate):\n",
        "        return weight * rate\n",
        "        \n",
        "class Shirt(Clothing):\n",
        "    \n",
        "    def __init__(self, color, size, style, price, long_or_short):\n",
        "        \n",
        "        Clothing.__init__(self, color, size, style, price)\n",
        "        self.long_or_short = long_or_short\n",
        "    \n",
        "    def double_price(self):\n",
        "        self.price = 2*self.price\n",
        "    \n",
        "class Pants(Clothing):\n",
        "\n",
        "    def __init__(self, color, size, style, price, waist):\n",
        "        \n",
        "        Clothing.__init__(self, color, size, style, price)\n",
        "        self.waist = waist\n",
        "        \n",
        "    def calculate_discount(self, discount):\n",
        "        return self.price * (1 - discount / 2)\n",
        "    \n",
        "# TODO: Write a class called Blouse, that inherits from the Clothing class\n",
        "# and has the the following attributes and methods:\n",
        "#   attributes: color, size, style, price, country_of_origin\n",
        "#     where country_of_origin is a string that holds the name of a \n",
        "#     country\n",
        "#\n",
        "#   methods: triple_price, which has no inputs and returns three times\n",
        "#     the price of the blouse\n",
        "#\n",
        "#\n",
        "\n",
        "# TODO: Add a method to the clothing class called calculate_shipping.\n",
        "#   The method has two inputs: weight and rate. Weight is a float\n",
        "#   representing the weight of the article of clothing. Rate is a float\n",
        "#   representing the shipping weight. The method returns weight * rate\n",
        "\n",
        "    \n",
        "     "
      ],
      "execution_count": 0,
      "outputs": []
    },
    {
      "cell_type": "code",
      "metadata": {
        "id": "0LuGlGJz2PEq",
        "colab_type": "code",
        "colab": {},
        "outputId": "a025c0cc-30b6-479a-91c1-d21aac6bb5d9"
      },
      "source": [
        "# Unit tests to check your solution\n",
        "\n",
        "import unittest\n",
        "\n",
        "class TestClothingClass(unittest.TestCase):\n",
        "    def setUp(self):\n",
        "        self.clothing = Clothing('orange', 'M', 'stripes', 35)\n",
        "        self.blouse = Blouse('blue', 'M', 'luxury', 40, 'Brazil')\n",
        "        self.pants = Pants('black', 32, 'baggy', 60, 30)\n",
        "        \n",
        "    def test_initialization(self): \n",
        "        self.assertEqual(self.clothing.color, 'orange', 'color should be orange')\n",
        "        self.assertEqual(self.clothing.price, 35, 'incorrect price')\n",
        "        \n",
        "        self.assertEqual(self.blouse.color, 'blue', 'color should be blue')\n",
        "        self.assertEqual(self.blouse.size, 'M', 'incorrect size')\n",
        "        self.assertEqual(self.blouse.style, 'luxury', 'incorrect style')\n",
        "        self.assertEqual(self.blouse.price, 40, 'incorrect price')\n",
        "        self.assertEqual(self.blouse.country_of_origin, 'Brazil', 'incorrect country of origin')\n",
        "\n",
        "    def test_calculateshipping(self):\n",
        "        self.assertEqual(self.clothing.calculate_shipping(.5, 3), .5 * 3,\\\n",
        "         'Clothing shipping calculation not as expected') \n",
        "\n",
        "        self.assertEqual(self.blouse.calculate_shipping(.5, 3), .5 * 3,\\\n",
        "         'Clothing shipping calculation not as expected') \n",
        "    \n",
        "tests = TestClothingClass()\n",
        "\n",
        "tests_loaded = unittest.TestLoader().loadTestsFromModule(tests)\n",
        "\n",
        "unittest.TextTestRunner().run(tests_loaded)"
      ],
      "execution_count": 0,
      "outputs": [
        {
          "output_type": "stream",
          "text": [
            "E.\n",
            "======================================================================\n",
            "ERROR: test_calculateshipping (__main__.TestClothingClass)\n",
            "----------------------------------------------------------------------\n",
            "Traceback (most recent call last):\n",
            "  File \"<ipython-input-6-e91fe751cbab>\", line 22, in test_calculateshipping\n",
            "    self.assertEqual(self.clothing.calculate_shipping(.5, 3), .5 * 3,         'Clothing shipping calculation not as expected')\n",
            "AttributeError: 'Clothing' object has no attribute 'calculate_shipping'\n",
            "\n",
            "----------------------------------------------------------------------\n",
            "Ran 2 tests in 0.007s\n",
            "\n",
            "FAILED (errors=1)\n"
          ],
          "name": "stderr"
        },
        {
          "output_type": "execute_result",
          "data": {
            "text/plain": [
              "<unittest.runner.TextTestResult run=2 errors=1 failures=0>"
            ]
          },
          "metadata": {
            "tags": []
          },
          "execution_count": 6
        }
      ]
    },
    {
      "cell_type": "code",
      "metadata": {
        "id": "XoYdbgga2PEu",
        "colab_type": "code",
        "colab": {}
      },
      "source": [
        ""
      ],
      "execution_count": 0,
      "outputs": []
    }
  ]
}